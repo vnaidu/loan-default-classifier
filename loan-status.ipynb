{
 "cells": [
  {
   "cell_type": "markdown",
   "metadata": {
    "toc": "true"
   },
   "source": [
    "# Table of Contents\n",
    " <p><div class=\"lev1 toc-item\"><a href=\"#Introduction\" data-toc-modified-id=\"Introduction-1\" data-vivaldi-spatnav-clickable=\"1\"><span class=\"toc-item-num\">1&nbsp;&nbsp;</span>Introduction</a></div><div class=\"lev2 toc-item\"><a href=\"#Project-Overview\" data-toc-modified-id=\"Project-Overview-11\" data-vivaldi-spatnav-clickable=\"1\"><span class=\"toc-item-num\">1.1&nbsp;&nbsp;</span>Project Overview</a></div><div class=\"lev2 toc-item\"><a href=\"#Project-Setup\" data-toc-modified-id=\"Project-Setup-12\" data-vivaldi-spatnav-clickable=\"1\"><span class=\"toc-item-num\">1.2&nbsp;&nbsp;</span>Project Setup</a></div><div class=\"lev1 toc-item\"><a href=\"#Data-Preprocessing\" data-toc-modified-id=\"Data-Preprocessing-2\" data-vivaldi-spatnav-clickable=\"1\"><span class=\"toc-item-num\">2&nbsp;&nbsp;</span>Data Preprocessing</a></div><div class=\"lev2 toc-item\"><a href=\"#Load-Dataset\" data-toc-modified-id=\"Load-Dataset-21\" data-vivaldi-spatnav-clickable=\"1\"><span class=\"toc-item-num\">2.1&nbsp;&nbsp;</span>Load Dataset</a></div><div class=\"lev2 toc-item\"><a href=\"#Exploration\" data-toc-modified-id=\"Exploration-22\" data-vivaldi-spatnav-clickable=\"1\"><span class=\"toc-item-num\">2.2&nbsp;&nbsp;</span>Exploration</a></div><div class=\"lev2 toc-item\"><a href=\"#Data-Munging\" data-toc-modified-id=\"Data-Munging-23\" data-vivaldi-spatnav-clickable=\"1\"><span class=\"toc-item-num\">2.3&nbsp;&nbsp;</span>Data Munging</a></div><div class=\"lev2 toc-item\"><a href=\"#Feature-Engineering\" data-toc-modified-id=\"Feature-Engineering-24\" data-vivaldi-spatnav-clickable=\"1\"><span class=\"toc-item-num\">2.4&nbsp;&nbsp;</span>Feature Engineering</a></div><div class=\"lev1 toc-item\"><a href=\"#Exploratory-Data-Analysis-(EDA)\" data-toc-modified-id=\"Exploratory-Data-Analysis-(EDA)-3\" data-vivaldi-spatnav-clickable=\"1\"><span class=\"toc-item-num\">3&nbsp;&nbsp;</span>Exploratory Data Analysis (EDA)</a></div><div class=\"lev2 toc-item\"><a href=\"#Summary-Statistics\" data-toc-modified-id=\"Summary-Statistics-31\" data-vivaldi-spatnav-clickable=\"1\"><span class=\"toc-item-num\">3.1&nbsp;&nbsp;</span>Summary Statistics</a></div><div class=\"lev1 toc-item\"><a href=\"#Predictive-Modeling\" data-toc-modified-id=\"Predictive-Modeling-4\" data-vivaldi-spatnav-clickable=\"1\"><span class=\"toc-item-num\">4&nbsp;&nbsp;</span>Predictive Modeling</a></div><div class=\"lev2 toc-item\"><a href=\"#Initializing-Train/Test-Sets\" data-toc-modified-id=\"Initializing-Train/Test-Sets-41\" data-vivaldi-spatnav-clickable=\"1\"><span class=\"toc-item-num\">4.1&nbsp;&nbsp;</span>Initializing Train/Test Sets</a></div><div class=\"lev2 toc-item\"><a href=\"#Classification-Models\" data-toc-modified-id=\"Classification-Models-42\" data-vivaldi-spatnav-clickable=\"1\"><span class=\"toc-item-num\">4.2&nbsp;&nbsp;</span>Classification Models</a></div><div class=\"lev2 toc-item\"><a href=\"#Model-Selection-&amp;-Optimization\" data-toc-modified-id=\"Model-Selection-&amp;-Optimization-43\" data-vivaldi-spatnav-clickable=\"1\"><span class=\"toc-item-num\">4.3&nbsp;&nbsp;</span>Model Selection &amp; Optimization</a></div><div class=\"lev1 toc-item\"><a href=\"#Conclusion\" data-toc-modified-id=\"Conclusion-5\" data-vivaldi-spatnav-clickable=\"1\"><span class=\"toc-item-num\">5&nbsp;&nbsp;</span>Conclusion</a></div><div class=\"lev2 toc-item\"><a href=\"#Feature-Importance\" data-toc-modified-id=\"Feature-Importance-51\" data-vivaldi-spatnav-clickable=\"1\"><span class=\"toc-item-num\">5.1&nbsp;&nbsp;</span>Feature Importance</a></div><div class=\"lev2 toc-item\"><a href=\"#Final-Model-Evaluation\" data-toc-modified-id=\"Final-Model-Evaluation-52\" data-vivaldi-spatnav-clickable=\"1\"><span class=\"toc-item-num\">5.2&nbsp;&nbsp;</span>Final Model Evaluation</a></div>"
   ]
  },
  {
   "cell_type": "markdown",
   "metadata": {
    "collapsed": true
   },
   "source": [
    "# Introduction"
   ]
  },
  {
   "cell_type": "markdown",
   "metadata": {},
   "source": [
    "## Project Overview"
   ]
  },
  {
   "cell_type": "markdown",
   "metadata": {},
   "source": [
    "### Objective"
   ]
  },
  {
   "cell_type": "markdown",
   "metadata": {},
   "source": [
    "<b>Build a binary classification model that predicts the \"Charged Off\" or \"Fully Paid\" Status of a loan, and explain what features are the best predictors.   The purpose is to use this model would be used to place trades on loans immediately after they are issued by Lending Club.</b>"
   ]
  },
  {
   "cell_type": "markdown",
   "metadata": {},
   "source": [
    "### Summary"
   ]
  },
  {
   "cell_type": "markdown",
   "metadata": {},
   "source": [
    "Data used for this project comes directly from Lending Club’s historical loan records (the full record contains more than 100 columns)."
   ]
  },
  {
   "cell_type": "markdown",
   "metadata": {
    "heading_collapsed": true
   },
   "source": [
    "## Project Setup"
   ]
  },
  {
   "cell_type": "markdown",
   "metadata": {
    "heading_collapsed": true,
    "hidden": true
   },
   "source": [
    "### Import Libraries & Modules"
   ]
  },
  {
   "cell_type": "code",
   "execution_count": 1,
   "metadata": {
    "collapsed": true,
    "hidden": true
   },
   "outputs": [],
   "source": [
    "#import EDA\n",
    "#import preprocessing\n",
    "\n",
    "import pandas as pd\n",
    "import numpy as np\n",
    "\n",
    "import matplotlib.pyplot as plt\n",
    "import seaborn as sns\n",
    "\n",
    "from sklearn.dummy import DummyClassifier\n",
    "from sklearn.model_selection import train_test_split, StratifiedShuffleSplit, GridSearchCV\n",
    "from sklearn.pipeline import Pipeline\n",
    "from sklearn.ensemble import RandomForestRegressor, RandomForestClassifier\n",
    "from sklearn.preprocessing import LabelBinarizer, Imputer\n",
    "from sklearn.ensemble import AdaBoostClassifier, GradientBoostingClassifier\n",
    "from sklearn.metrics import classification_report, roc_auc_score, roc_curve, make_scorer, fbeta_score, accuracy_score"
   ]
  },
  {
   "cell_type": "markdown",
   "metadata": {
    "heading_collapsed": true,
    "hidden": true
   },
   "source": [
    "### Custom Functions"
   ]
  },
  {
   "cell_type": "code",
   "execution_count": null,
   "metadata": {
    "collapsed": true,
    "hidden": true
   },
   "outputs": [],
   "source": []
  },
  {
   "cell_type": "markdown",
   "metadata": {
    "heading_collapsed": true,
    "hidden": true
   },
   "source": [
    "### Notebook Config"
   ]
  },
  {
   "cell_type": "code",
   "execution_count": null,
   "metadata": {
    "collapsed": true,
    "hidden": true
   },
   "outputs": [],
   "source": [
    "from IPython.display import display\n",
    "import warnings\n",
    "\n",
    "%matplotlib inline\n",
    "#%config InlineBackend.figure_format='retina'\n",
    "#%config InlineBackend.print_figure_kwargs = {'bbox_inches':None}\n",
    "sns.set()"
   ]
  },
  {
   "cell_type": "raw",
   "metadata": {
    "hidden": true
   },
   "source": [
    "<style type=\"text/css\">\n",
    ".input_prompt, .input_area, .output_prompt {\n",
    "    display:none !important;\n",
    "}\n",
    "\n",
    "div.output_png {\n",
    "  display: flex;\n",
    "  justify-content: center;\n",
    "}\n",
    "\n",
    "</style>\n",
    "<script src=\"https://unpkg.com/jupyter-js-widgets@~2.1.4/dist/embed.js\"></script>\n",
    "<script type=\"application/vnd.jupyter.widget-state+json\">\n",
    "{\n",
    "    \"version_major\": 1,\n",
    "    \"version_minor\": 0,\n",
    "    \"state\": {}\n",
    "}\n",
    "</script>"
   ]
  },
  {
   "cell_type": "markdown",
   "metadata": {
    "heading_collapsed": true
   },
   "source": [
    "# Data Preprocessing"
   ]
  },
  {
   "cell_type": "markdown",
   "metadata": {
    "heading_collapsed": true,
    "hidden": true
   },
   "source": [
    "## Load Dataset"
   ]
  },
  {
   "cell_type": "code",
   "execution_count": 18,
   "metadata": {
    "collapsed": true,
    "hidden": true
   },
   "outputs": [],
   "source": [
    "#train = pd.read_csv('./data/train.csv', index_col='ticket_id', low_memory=False, memory_map=True)\n",
    "#holdout = pd.read_csv('data/test.csv')"
   ]
  },
  {
   "cell_type": "code",
   "execution_count": null,
   "metadata": {
    "collapsed": true,
    "hidden": true
   },
   "outputs": [],
   "source": []
  },
  {
   "cell_type": "markdown",
   "metadata": {
    "heading_collapsed": true,
    "hidden": true
   },
   "source": [
    "## Exploration"
   ]
  },
  {
   "cell_type": "markdown",
   "metadata": {
    "heading_collapsed": true,
    "hidden": true
   },
   "source": [
    "### Summary"
   ]
  },
  {
   "cell_type": "code",
   "execution_count": null,
   "metadata": {
    "collapsed": true,
    "hidden": true
   },
   "outputs": [],
   "source": []
  },
  {
   "cell_type": "markdown",
   "metadata": {
    "heading_collapsed": true,
    "hidden": true
   },
   "source": [
    "### Missing Data"
   ]
  },
  {
   "cell_type": "code",
   "execution_count": null,
   "metadata": {
    "collapsed": true,
    "hidden": true
   },
   "outputs": [],
   "source": []
  },
  {
   "cell_type": "markdown",
   "metadata": {
    "heading_collapsed": true,
    "hidden": true
   },
   "source": [
    "## Data Munging"
   ]
  },
  {
   "cell_type": "markdown",
   "metadata": {
    "hidden": true
   },
   "source": [
    "### Cleaning"
   ]
  },
  {
   "cell_type": "markdown",
   "metadata": {
    "heading_collapsed": true,
    "hidden": true
   },
   "source": [
    "## Feature Engineering"
   ]
  },
  {
   "cell_type": "markdown",
   "metadata": {
    "heading_collapsed": true,
    "hidden": true
   },
   "source": [
    "### Drop Features"
   ]
  },
  {
   "cell_type": "code",
   "execution_count": null,
   "metadata": {
    "collapsed": true,
    "hidden": true
   },
   "outputs": [],
   "source": []
  },
  {
   "cell_type": "markdown",
   "metadata": {
    "heading_collapsed": true,
    "hidden": true
   },
   "source": [
    "### New Features"
   ]
  },
  {
   "cell_type": "code",
   "execution_count": null,
   "metadata": {
    "collapsed": true,
    "hidden": true
   },
   "outputs": [],
   "source": []
  },
  {
   "cell_type": "markdown",
   "metadata": {
    "heading_collapsed": true
   },
   "source": [
    "# Exploratory Data Analysis (EDA)"
   ]
  },
  {
   "cell_type": "markdown",
   "metadata": {
    "heading_collapsed": true,
    "hidden": true
   },
   "source": [
    "## Summary Statistics"
   ]
  },
  {
   "cell_type": "markdown",
   "metadata": {
    "heading_collapsed": true
   },
   "source": [
    "# Predictive Modeling"
   ]
  },
  {
   "cell_type": "markdown",
   "metadata": {
    "heading_collapsed": true,
    "hidden": true
   },
   "source": [
    "## Initializing Train/Test Sets"
   ]
  },
  {
   "cell_type": "markdown",
   "metadata": {
    "hidden": true
   },
   "source": [
    "### Shuffle and Split Data"
   ]
  },
  {
   "cell_type": "markdown",
   "metadata": {
    "hidden": true
   },
   "source": [
    "Let's split the data (both features and their labels) into training and test sets. 80% of the data will be used for training and 20% for testing.\n",
    "\n",
    "Run the code cell below to perform this split."
   ]
  },
  {
   "cell_type": "code",
   "execution_count": null,
   "metadata": {
    "collapsed": true,
    "hidden": true
   },
   "outputs": [],
   "source": [
    "X, y = #ToDo\n",
    "X_train, X_test, y_train, y_test = train_test_split(\n",
    "    X, y, test_size=0.20, stratify=y, random_state=11)\n",
    "\n",
    "# Show the results of the split\n",
    "print(\"Training set has {} samples.\".format(X_train.shape[0]))\n",
    "print(\"Testing set has {} samples.\".format(X_test.shape[0]))"
   ]
  },
  {
   "cell_type": "markdown",
   "metadata": {
    "heading_collapsed": true,
    "hidden": true
   },
   "source": [
    "## Classification Models"
   ]
  },
  {
   "cell_type": "markdown",
   "metadata": {
    "heading_collapsed": true,
    "hidden": true
   },
   "source": [
    "### Naive Predictor (Baseline)"
   ]
  },
  {
   "cell_type": "code",
   "execution_count": null,
   "metadata": {
    "collapsed": true,
    "hidden": true
   },
   "outputs": [],
   "source": [
    "dummy_pipe = Pipeline([('imp', Imputer(strategy='median')), \n",
    "                       ('clf', DummyClassifier(strategy='constant', constant=0))])\n"
   ]
  },
  {
   "cell_type": "code",
   "execution_count": null,
   "metadata": {
    "collapsed": true,
    "hidden": true
   },
   "outputs": [],
   "source": [
    "dummy_pipe.fit(X_train, y_train)\n",
    "\n",
    "#\n",
    "naive_pred = dummy_pipe.predict(X_test)\n",
    "\n",
    "# Calculate accuracy\n",
    "accuracy = accuracy_score(naive_pred, y_test)\n",
    "\n",
    "# Calculate F-score using beta = 0.5\n",
    "fscore = fbeta_score(naive_pred, y_test, beta=0.5)\n",
    "\n",
    "# Print the results \n",
    "print(\"Naive Predictor: [Accuracy score: {:.4f}, F-score: {:.4f}]\".format(accuracy, fscore))"
   ]
  },
  {
   "cell_type": "markdown",
   "metadata": {
    "heading_collapsed": true,
    "hidden": true
   },
   "source": [
    "### Decision Tree Classifier"
   ]
  },
  {
   "cell_type": "code",
   "execution_count": null,
   "metadata": {
    "collapsed": true,
    "hidden": true
   },
   "outputs": [],
   "source": [
    "from sklearn.tree import DecisionTreeClassifier\n",
    "tree_clf_baseline = DecisionTreeClassifier(random_state=11)\n",
    "tree_pipe_baseline = Pipeline([('imp', Imputer(strategy='median')), ('clf', tree_clf_baseline)])\n",
    "\n",
    "model_tree_baseline = train_model('Decision Tree Classifier', tree_pipe_baseline, X_train, y_train, X_test, y_test,\n",
    "                               report=True, plot_roc=True, notes='Baseline Model')\n",
    "\n",
    "model_evals = eval_db(model_tree_baseline['evaluation'])"
   ]
  },
  {
   "cell_type": "markdown",
   "metadata": {
    "heading_collapsed": true,
    "hidden": true
   },
   "source": [
    "## Model Selection & Optimization"
   ]
  },
  {
   "cell_type": "markdown",
   "metadata": {
    "hidden": true
   },
   "source": [
    "### Comparative Analysis"
   ]
  },
  {
   "cell_type": "markdown",
   "metadata": {
    "hidden": true
   },
   "source": [
    "### Model Selection"
   ]
  },
  {
   "cell_type": "markdown",
   "metadata": {
    "hidden": true
   },
   "source": [
    "### Optimizing Hyperparameters"
   ]
  },
  {
   "cell_type": "code",
   "execution_count": null,
   "metadata": {
    "collapsed": true,
    "hidden": true
   },
   "outputs": [],
   "source": []
  },
  {
   "cell_type": "markdown",
   "metadata": {
    "hidden": true
   },
   "source": [
    "#### Results:\n",
    "\n",
    "|     Metric     | Benchmark Predictor | Unoptimized Model | Optimized Model |\n",
    "| :------------: | :-----------------: | :---------------: | :-------------: | \n",
    "| Accuracy Score |      0.2438         |     0.8630        |   0.8682        |\n",
    "| F-score        |      0.6171         |     0.7395        |   0.7462        |\n"
   ]
  },
  {
   "cell_type": "markdown",
   "metadata": {
    "heading_collapsed": true
   },
   "source": [
    "# Conclusion"
   ]
  },
  {
   "cell_type": "markdown",
   "metadata": {
    "heading_collapsed": true,
    "hidden": true
   },
   "source": [
    "## Feature Importance"
   ]
  },
  {
   "cell_type": "markdown",
   "metadata": {
    "hidden": true
   },
   "source": [
    "### Extracting Feature Importance"
   ]
  },
  {
   "cell_type": "markdown",
   "metadata": {
    "hidden": true
   },
   "source": [
    "### Effects of Feature Selection"
   ]
  },
  {
   "cell_type": "markdown",
   "metadata": {
    "heading_collapsed": true,
    "hidden": true
   },
   "source": [
    "## Final Model Evaluation"
   ]
  },
  {
   "cell_type": "code",
   "execution_count": null,
   "metadata": {
    "collapsed": true,
    "hidden": true
   },
   "outputs": [],
   "source": []
  }
 ],
 "metadata": {
  "kernelspec": {
   "display_name": "Python 3",
   "language": "python",
   "name": "python3"
  },
  "language_info": {
   "codemirror_mode": {
    "name": "ipython",
    "version": 3
   },
   "file_extension": ".py",
   "mimetype": "text/x-python",
   "name": "python",
   "nbconvert_exporter": "python",
   "pygments_lexer": "ipython3",
   "version": "3.6.1"
  },
  "toc": {
   "colors": {
    "hover_highlight": "#DAA520",
    "navigate_num": "#000000",
    "navigate_text": "#333333",
    "running_highlight": "#FF0000",
    "selected_highlight": "#FFD700",
    "sidebar_border": "#EEEEEE",
    "wrapper_background": "#FFFFFF"
   },
   "moveMenuLeft": true,
   "nav_menu": {
    "height": "318px",
    "width": "252px"
   },
   "navigate_menu": true,
   "number_sections": false,
   "sideBar": true,
   "threshold": "2",
   "toc_cell": true,
   "toc_section_display": "block",
   "toc_window_display": false,
   "widenNotebook": false
  }
 },
 "nbformat": 4,
 "nbformat_minor": 1
}
