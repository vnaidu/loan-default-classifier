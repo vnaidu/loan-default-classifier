{
 "cells": [
  {
   "cell_type": "markdown",
   "metadata": {
    "toc": "true"
   },
   "source": [
    "# Table of Contents\n",
    " <p><div class=\"lev1 toc-item\"><a href=\"#Introduction\" data-toc-modified-id=\"Introduction-1\" data-vivaldi-spatnav-clickable=\"1\"><span class=\"toc-item-num\">1&nbsp;&nbsp;</span>Introduction</a></div><div class=\"lev2 toc-item\"><a href=\"#Project-Overview\" data-toc-modified-id=\"Project-Overview-11\" data-vivaldi-spatnav-clickable=\"1\"><span class=\"toc-item-num\">1.1&nbsp;&nbsp;</span>Project Overview</a></div><div class=\"lev3 toc-item\"><a href=\"#Objective\" data-toc-modified-id=\"Objective-111\" data-vivaldi-spatnav-clickable=\"1\"><span class=\"toc-item-num\">1.1.1&nbsp;&nbsp;</span>Objective</a></div><div class=\"lev3 toc-item\"><a href=\"#Summary\" data-toc-modified-id=\"Summary-112\" data-vivaldi-spatnav-clickable=\"1\"><span class=\"toc-item-num\">1.1.2&nbsp;&nbsp;</span>Summary</a></div><div class=\"lev2 toc-item\"><a href=\"#Project-Setup\" data-toc-modified-id=\"Project-Setup-12\" data-vivaldi-spatnav-clickable=\"1\"><span class=\"toc-item-num\">1.2&nbsp;&nbsp;</span>Project Setup</a></div><div class=\"lev3 toc-item\"><a href=\"#Import-Libraries-&amp;-Modules\" data-toc-modified-id=\"Import-Libraries-&amp;-Modules-121\" data-vivaldi-spatnav-clickable=\"1\"><span class=\"toc-item-num\">1.2.1&nbsp;&nbsp;</span>Import Libraries &amp; Modules</a></div><div class=\"lev3 toc-item\"><a href=\"#Custom-Functions\" data-toc-modified-id=\"Custom-Functions-122\" data-vivaldi-spatnav-clickable=\"1\"><span class=\"toc-item-num\">1.2.2&nbsp;&nbsp;</span>Custom Functions</a></div><div class=\"lev3 toc-item\"><a href=\"#Notebook-Config\" data-toc-modified-id=\"Notebook-Config-123\" data-vivaldi-spatnav-clickable=\"1\"><span class=\"toc-item-num\">1.2.3&nbsp;&nbsp;</span>Notebook Config</a></div><div class=\"lev1 toc-item\"><a href=\"#Data-Preprocessing\" data-toc-modified-id=\"Data-Preprocessing-2\" data-vivaldi-spatnav-clickable=\"1\"><span class=\"toc-item-num\">2&nbsp;&nbsp;</span>Data Preprocessing</a></div><div class=\"lev2 toc-item\"><a href=\"#Load-Dataset\" data-toc-modified-id=\"Load-Dataset-21\" data-vivaldi-spatnav-clickable=\"1\"><span class=\"toc-item-num\">2.1&nbsp;&nbsp;</span>Load Dataset</a></div><div class=\"lev2 toc-item\"><a href=\"#Exploration\" data-toc-modified-id=\"Exploration-22\" data-vivaldi-spatnav-clickable=\"1\"><span class=\"toc-item-num\">2.2&nbsp;&nbsp;</span>Exploration</a></div><div class=\"lev3 toc-item\"><a href=\"#Summary\" data-toc-modified-id=\"Summary-221\" data-vivaldi-spatnav-clickable=\"1\"><span class=\"toc-item-num\">2.2.1&nbsp;&nbsp;</span>Summary</a></div><div class=\"lev3 toc-item\"><a href=\"#Missing-Data\" data-toc-modified-id=\"Missing-Data-222\" data-vivaldi-spatnav-clickable=\"1\"><span class=\"toc-item-num\">2.2.2&nbsp;&nbsp;</span>Missing Data</a></div><div class=\"lev2 toc-item\"><a href=\"#Data-Munging\" data-toc-modified-id=\"Data-Munging-23\" data-vivaldi-spatnav-clickable=\"1\"><span class=\"toc-item-num\">2.3&nbsp;&nbsp;</span>Data Munging</a></div><div class=\"lev3 toc-item\"><a href=\"#Cleaning\" data-toc-modified-id=\"Cleaning-231\" data-vivaldi-spatnav-clickable=\"1\"><span class=\"toc-item-num\">2.3.1&nbsp;&nbsp;</span>Cleaning</a></div><div class=\"lev2 toc-item\"><a href=\"#Feature-Engineering\" data-toc-modified-id=\"Feature-Engineering-24\" data-vivaldi-spatnav-clickable=\"1\"><span class=\"toc-item-num\">2.4&nbsp;&nbsp;</span>Feature Engineering</a></div><div class=\"lev3 toc-item\"><a href=\"#New-Features\" data-toc-modified-id=\"New-Features-241\" data-vivaldi-spatnav-clickable=\"1\"><span class=\"toc-item-num\">2.4.1&nbsp;&nbsp;</span>New Features</a></div><div class=\"lev3 toc-item\"><a href=\"#Drop-Features\" data-toc-modified-id=\"Drop-Features-242\" data-vivaldi-spatnav-clickable=\"1\"><span class=\"toc-item-num\">2.4.2&nbsp;&nbsp;</span>Drop Features</a></div><div class=\"lev1 toc-item\"><a href=\"#Exploratory-Data-Analysis-(EDA)\" data-toc-modified-id=\"Exploratory-Data-Analysis-(EDA)-3\" data-vivaldi-spatnav-clickable=\"1\"><span class=\"toc-item-num\">3&nbsp;&nbsp;</span>Exploratory Data Analysis (EDA)</a></div><div class=\"lev2 toc-item\"><a href=\"#Summary-Statistics\" data-toc-modified-id=\"Summary-Statistics-31\" data-vivaldi-spatnav-clickable=\"1\"><span class=\"toc-item-num\">3.1&nbsp;&nbsp;</span>Summary Statistics</a></div><div class=\"lev1 toc-item\"><a href=\"#Predictive-Modeling\" data-toc-modified-id=\"Predictive-Modeling-4\" data-vivaldi-spatnav-clickable=\"1\"><span class=\"toc-item-num\">4&nbsp;&nbsp;</span>Predictive Modeling</a></div><div class=\"lev2 toc-item\"><a href=\"#Initializing-Train/Test-Sets\" data-toc-modified-id=\"Initializing-Train/Test-Sets-41\" data-vivaldi-spatnav-clickable=\"1\"><span class=\"toc-item-num\">4.1&nbsp;&nbsp;</span>Initializing Train/Test Sets</a></div><div class=\"lev3 toc-item\"><a href=\"#Shuffle-and-Split-Data\" data-toc-modified-id=\"Shuffle-and-Split-Data-411\" data-vivaldi-spatnav-clickable=\"1\"><span class=\"toc-item-num\">4.1.1&nbsp;&nbsp;</span>Shuffle and Split Data</a></div><div class=\"lev2 toc-item\"><a href=\"#Classification-Models\" data-toc-modified-id=\"Classification-Models-42\" data-vivaldi-spatnav-clickable=\"1\"><span class=\"toc-item-num\">4.2&nbsp;&nbsp;</span>Classification Models</a></div><div class=\"lev3 toc-item\"><a href=\"#Naive-Predictor-(Baseline)\" data-toc-modified-id=\"Naive-Predictor-(Baseline)-421\" data-vivaldi-spatnav-clickable=\"1\"><span class=\"toc-item-num\">4.2.1&nbsp;&nbsp;</span>Naive Predictor (Baseline)</a></div><div class=\"lev3 toc-item\"><a href=\"#Decision-Tree-Classifier\" data-toc-modified-id=\"Decision-Tree-Classifier-422\" data-vivaldi-spatnav-clickable=\"1\"><span class=\"toc-item-num\">4.2.2&nbsp;&nbsp;</span>Decision Tree Classifier</a></div><div class=\"lev2 toc-item\"><a href=\"#Model-Selection-&amp;-Optimization\" data-toc-modified-id=\"Model-Selection-&amp;-Optimization-43\" data-vivaldi-spatnav-clickable=\"1\"><span class=\"toc-item-num\">4.3&nbsp;&nbsp;</span>Model Selection &amp; Optimization</a></div><div class=\"lev3 toc-item\"><a href=\"#Comparative-Analysis\" data-toc-modified-id=\"Comparative-Analysis-431\" data-vivaldi-spatnav-clickable=\"1\"><span class=\"toc-item-num\">4.3.1&nbsp;&nbsp;</span>Comparative Analysis</a></div><div class=\"lev3 toc-item\"><a href=\"#Model-Selection\" data-toc-modified-id=\"Model-Selection-432\" data-vivaldi-spatnav-clickable=\"1\"><span class=\"toc-item-num\">4.3.2&nbsp;&nbsp;</span>Model Selection</a></div><div class=\"lev3 toc-item\"><a href=\"#Optimizing-Hyperparameters\" data-toc-modified-id=\"Optimizing-Hyperparameters-433\" data-vivaldi-spatnav-clickable=\"1\"><span class=\"toc-item-num\">4.3.3&nbsp;&nbsp;</span>Optimizing Hyperparameters</a></div><div class=\"lev1 toc-item\"><a href=\"#Conclusion\" data-toc-modified-id=\"Conclusion-5\" data-vivaldi-spatnav-clickable=\"1\"><span class=\"toc-item-num\">5&nbsp;&nbsp;</span>Conclusion</a></div><div class=\"lev2 toc-item\"><a href=\"#Feature-Importance\" data-toc-modified-id=\"Feature-Importance-51\" data-vivaldi-spatnav-clickable=\"1\"><span class=\"toc-item-num\">5.1&nbsp;&nbsp;</span>Feature Importance</a></div><div class=\"lev3 toc-item\"><a href=\"#Extracting-Feature-Importance\" data-toc-modified-id=\"Extracting-Feature-Importance-511\" data-vivaldi-spatnav-clickable=\"1\"><span class=\"toc-item-num\">5.1.1&nbsp;&nbsp;</span>Extracting Feature Importance</a></div><div class=\"lev3 toc-item\"><a href=\"#Effects-of-Feature-Selection\" data-toc-modified-id=\"Effects-of-Feature-Selection-512\" data-vivaldi-spatnav-clickable=\"1\"><span class=\"toc-item-num\">5.1.2&nbsp;&nbsp;</span>Effects of Feature Selection</a></div><div class=\"lev2 toc-item\"><a href=\"#Final-Model-Evaluation\" data-toc-modified-id=\"Final-Model-Evaluation-52\" data-vivaldi-spatnav-clickable=\"1\"><span class=\"toc-item-num\">5.2&nbsp;&nbsp;</span>Final Model Evaluation</a></div>"
   ]
  },
  {
   "cell_type": "markdown",
   "metadata": {
    "collapsed": true
   },
   "source": [
    "# Introduction"
   ]
  },
  {
   "cell_type": "markdown",
   "metadata": {},
   "source": [
    "## Project Overview"
   ]
  },
  {
   "cell_type": "markdown",
   "metadata": {},
   "source": [
    "### Objective"
   ]
  },
  {
   "cell_type": "markdown",
   "metadata": {},
   "source": [
    "<b>Build a binary classification model that predicts the \"Charged Off\" or \"Fully Paid\" Status of a loan, and explain what features are the best predictors.   The purpose is to use this model would be used to place trades on loans immediately after they are issued by Lending Club.</b>"
   ]
  },
  {
   "cell_type": "markdown",
   "metadata": {},
   "source": [
    "### Summary"
   ]
  },
  {
   "cell_type": "markdown",
   "metadata": {},
   "source": [
    "Data used for this project comes directly from Lending Club’s historical loan records (the full record contains more than 100 columns)."
   ]
  },
  {
   "cell_type": "markdown",
   "metadata": {
    "heading_collapsed": true
   },
   "source": [
    "## Project Setup"
   ]
  },
  {
   "cell_type": "markdown",
   "metadata": {
    "heading_collapsed": true,
    "hidden": true
   },
   "source": [
    "### Import Libraries & Modules"
   ]
  },
  {
   "cell_type": "code",
   "execution_count": 1,
   "metadata": {
    "collapsed": true,
    "hidden": true
   },
   "outputs": [],
   "source": [
    "#import EDA\n",
    "#import preprocessing\n",
    "\n",
    "import pandas as pd\n",
    "import numpy as np\n",
    "\n",
    "import matplotlib.pyplot as plt\n",
    "import seaborn as sns\n",
    "\n",
    "from sklearn.dummy import DummyClassifier\n",
    "from sklearn.model_selection import train_test_split, StratifiedShuffleSplit, GridSearchCV\n",
    "from sklearn.pipeline import Pipeline\n",
    "from sklearn.ensemble import RandomForestRegressor, RandomForestClassifier\n",
    "from sklearn.preprocessing import LabelBinarizer, Imputer\n",
    "from sklearn.ensemble import AdaBoostClassifier, GradientBoostingClassifier\n",
    "from sklearn.metrics import classification_report, roc_auc_score, roc_curve, make_scorer, fbeta_score, accuracy_score"
   ]
  },
  {
   "cell_type": "markdown",
   "metadata": {
    "heading_collapsed": true,
    "hidden": true
   },
   "source": [
    "### Custom Functions"
   ]
  },
  {
   "cell_type": "code",
   "execution_count": null,
   "metadata": {
    "collapsed": true,
    "hidden": true
   },
   "outputs": [],
   "source": []
  },
  {
   "cell_type": "markdown",
   "metadata": {
    "heading_collapsed": true,
    "hidden": true
   },
   "source": [
    "### Notebook Config"
   ]
  },
  {
   "cell_type": "code",
   "execution_count": 2,
   "metadata": {
    "collapsed": true,
    "hidden": true
   },
   "outputs": [],
   "source": [
    "from IPython.display import display\n",
    "import warnings\n",
    "\n",
    "%matplotlib inline\n",
    "#%config InlineBackend.figure_format='retina'\n",
    "#%config InlineBackend.print_figure_kwargs = {'bbox_inches':None}\n",
    "sns.set()"
   ]
  },
  {
   "cell_type": "raw",
   "metadata": {
    "hidden": true
   },
   "source": [
    "<style type=\"text/css\">\n",
    ".input_prompt, .input_area, .output_prompt {\n",
    "    display:none !important;\n",
    "}\n",
    "\n",
    "div.output_png {\n",
    "  display: flex;\n",
    "  justify-content: center;\n",
    "}\n",
    "\n",
    "</style>\n",
    "<script src=\"https://unpkg.com/jupyter-js-widgets@~2.1.4/dist/embed.js\"></script>\n",
    "<script type=\"application/vnd.jupyter.widget-state+json\">\n",
    "{\n",
    "    \"version_major\": 1,\n",
    "    \"version_minor\": 0,\n",
    "    \"state\": {}\n",
    "}\n",
    "</script>"
   ]
  },
  {
   "cell_type": "markdown",
   "metadata": {
    "heading_collapsed": true
   },
   "source": [
    "# Data Preprocessing"
   ]
  },
  {
   "cell_type": "markdown",
   "metadata": {
    "heading_collapsed": true,
    "hidden": true
   },
   "source": [
    "## Load Dataset"
   ]
  },
  {
   "cell_type": "code",
   "execution_count": 3,
   "metadata": {
    "collapsed": true,
    "hidden": true
   },
   "outputs": [],
   "source": [
    "def load_dataset(path='data/lc_historical.csv'):\n",
    "    lc = pd.read_csv(path, index_col='id', memory_map=True, low_memory=False)\n",
    "    lc.loan_status = pd.Categorical(lc.loan_status, categories=['Fully Paid', 'Charged Off'])\n",
    "    return lc"
   ]
  },
  {
   "cell_type": "code",
   "execution_count": 4,
   "metadata": {
    "collapsed": true,
    "hidden": true
   },
   "outputs": [],
   "source": [
    "dataset = load_dataset()"
   ]
  },
  {
   "cell_type": "markdown",
   "metadata": {
    "heading_collapsed": true,
    "hidden": true
   },
   "source": [
    "## Exploration"
   ]
  },
  {
   "cell_type": "markdown",
   "metadata": {
    "heading_collapsed": true,
    "hidden": true
   },
   "source": [
    "### Summary"
   ]
  },
  {
   "cell_type": "markdown",
   "metadata": {
    "collapsed": true,
    "hidden": true
   },
   "source": [
    "- <b>Target:</b> loan-status\n",
    "- <b>Number of features:</b> 18 \n",
    "- <b>Number of observations:</b> 138196 \n",
    "- <b>Feature datatypes:</b> \n",
    "     + object: dti, bc_util, fico_range_low, percent_bc_gt_75, acc_open_past_24mths, annual_inc, recoveries, avg_cur_bal, loan_amnt\n",
    "     + <i>float64</i>: revol_util, earliest_cr_line, purpose, emp_length, home_ownership, addr_state, issue_d, loan_status\n",
    "- <b>Features with ALL missing or null values:</b>\n",
    "     + inq_last_12m\n",
    "     + all_util\n",
    "- <b>Features with SOME missing or null values:</b>\n",
    "     + avg_cur_bal (30%) \n",
    "     + bc_util (21%) \n",
    "     + percent_bc_gt_75 (21%) \n",
    "     + acc_open_past_24mths (20%) \n",
    "     + emp_length (0.18%) \n",
    "     + revol_util (0.08%) "
   ]
  },
  {
   "cell_type": "markdown",
   "metadata": {
    "heading_collapsed": true,
    "hidden": true
   },
   "source": [
    "### Missing Data"
   ]
  },
  {
   "cell_type": "code",
   "execution_count": 18,
   "metadata": {
    "collapsed": true,
    "hidden": true
   },
   "outputs": [],
   "source": [
    "def calc_incomplete_stats(dataset):\n",
    "    warnings.filterwarnings(\"ignore\", 'This pattern has match groups')\n",
    "    missing_data = pd.DataFrame(index=dataset.columns)\n",
    "    missing_data['Null'] = dataset.isnull().sum()\n",
    "    missing_data['NA_or_Missing'] = (\n",
    "        dataset.apply(lambda col: (col.str.contains('(^$|n/a|^na$|^%$)', case=False).sum()))\n",
    "        .fillna(0).astype(int))\n",
    "    missing_data['Incomplete'] = ((missing_data.Null + missing_data.NA_or_Missing) / len(dataset))\n",
    "    incomplete_stats = ((missing_data[(missing_data > 0).any(axis=1)])\n",
    "                        .sort_values('Incomplete', ascending=False))\n",
    "    return incomplete_stats\n",
    "\n",
    "def display_incomplete_stats(incomplete_stats):\n",
    "    stats = incomplete_stats.copy()\n",
    "    df_incomplete = (\n",
    "        stats.style\n",
    "        .set_caption('Missing')\n",
    "        .background_gradient(cmap=sns.light_palette(\"orange\", as_cmap=True),\n",
    "                             low=0, high=1, subset=['Null', 'NA_or_Missing'])\n",
    "        .background_gradient(cmap=sns.light_palette(\"red\", as_cmap=True),\n",
    "                             low=0, high=.6, subset=['Incomplete'])\n",
    "        .format({'Null': '{:,}', 'NA_or_Missing': '{:,}', 'Incomplete': '{:.1%}'}))\n",
    "    display(df_incomplete)\n",
    "    \n",
    "def plot_incomplete_stats(incomplete_stats, ylim_range=(0, 100)):\n",
    "    stats = incomplete_stats.copy()\n",
    "    stats.Incomplete = stats.Incomplete * 100\n",
    "    _ = sns.barplot(x=stats.index.tolist(), y=stats.Incomplete.tolist())\n",
    "    for item in _.get_xticklabels():\n",
    "        item.set_rotation(45)\n",
    "    _.set(xlabel='Feature', ylabel='Incomplete (%)', \n",
    "          title='Features with Missing or Null Values',\n",
    "          ylim=ylim_range)\n",
    "    plt.show()"
   ]
  },
  {
   "cell_type": "code",
   "execution_count": 16,
   "metadata": {},
   "outputs": [
    {
     "data": {
      "text/html": [
       "<style  type=\"text/css\" >\n",
       "    #T_fd9e52c4_7eb2_11e7_bacc_3052cb454bc3row0_col0 {\n",
       "            background-color:  #ffcd72;\n",
       "        }    #T_fd9e52c4_7eb2_11e7_bacc_3052cb454bc3row0_col1 {\n",
       "            background-color:  #fff6e5;\n",
       "        }    #T_fd9e52c4_7eb2_11e7_bacc_3052cb454bc3row0_col2 {\n",
       "            background-color:  #ff5656;\n",
       "        }    #T_fd9e52c4_7eb2_11e7_bacc_3052cb454bc3row1_col0 {\n",
       "            background-color:  #ffcd72;\n",
       "        }    #T_fd9e52c4_7eb2_11e7_bacc_3052cb454bc3row1_col1 {\n",
       "            background-color:  #fff6e5;\n",
       "        }    #T_fd9e52c4_7eb2_11e7_bacc_3052cb454bc3row1_col2 {\n",
       "            background-color:  #ff5656;\n",
       "        }    #T_fd9e52c4_7eb2_11e7_bacc_3052cb454bc3row2_col0 {\n",
       "            background-color:  #ffeac3;\n",
       "        }    #T_fd9e52c4_7eb2_11e7_bacc_3052cb454bc3row2_col1 {\n",
       "            background-color:  #fff6e5;\n",
       "        }    #T_fd9e52c4_7eb2_11e7_bacc_3052cb454bc3row2_col2 {\n",
       "            background-color:  #ffbbbb;\n",
       "        }    #T_fd9e52c4_7eb2_11e7_bacc_3052cb454bc3row3_col0 {\n",
       "            background-color:  #ffeece;\n",
       "        }    #T_fd9e52c4_7eb2_11e7_bacc_3052cb454bc3row3_col1 {\n",
       "            background-color:  #fff6e5;\n",
       "        }    #T_fd9e52c4_7eb2_11e7_bacc_3052cb454bc3row3_col2 {\n",
       "            background-color:  #ffc8c8;\n",
       "        }    #T_fd9e52c4_7eb2_11e7_bacc_3052cb454bc3row4_col0 {\n",
       "            background-color:  #ffeece;\n",
       "        }    #T_fd9e52c4_7eb2_11e7_bacc_3052cb454bc3row4_col1 {\n",
       "            background-color:  #fff6e5;\n",
       "        }    #T_fd9e52c4_7eb2_11e7_bacc_3052cb454bc3row4_col2 {\n",
       "            background-color:  #ffc8c8;\n",
       "        }    #T_fd9e52c4_7eb2_11e7_bacc_3052cb454bc3row5_col0 {\n",
       "            background-color:  #ffeece;\n",
       "        }    #T_fd9e52c4_7eb2_11e7_bacc_3052cb454bc3row5_col1 {\n",
       "            background-color:  #fff6e5;\n",
       "        }    #T_fd9e52c4_7eb2_11e7_bacc_3052cb454bc3row5_col2 {\n",
       "            background-color:  #ffc9c9;\n",
       "        }    #T_fd9e52c4_7eb2_11e7_bacc_3052cb454bc3row6_col0 {\n",
       "            background-color:  #fff6e5;\n",
       "        }    #T_fd9e52c4_7eb2_11e7_bacc_3052cb454bc3row6_col1 {\n",
       "            background-color:  #ffcd72;\n",
       "        }    #T_fd9e52c4_7eb2_11e7_bacc_3052cb454bc3row6_col2 {\n",
       "            background-color:  #ffe0e0;\n",
       "        }    #T_fd9e52c4_7eb2_11e7_bacc_3052cb454bc3row7_col0 {\n",
       "            background-color:  #fff6e5;\n",
       "        }    #T_fd9e52c4_7eb2_11e7_bacc_3052cb454bc3row7_col1 {\n",
       "            background-color:  #fff6e5;\n",
       "        }    #T_fd9e52c4_7eb2_11e7_bacc_3052cb454bc3row7_col2 {\n",
       "            background-color:  #ffe5e5;\n",
       "        }</style>  \n",
       "<table id=\"T_fd9e52c4_7eb2_11e7_bacc_3052cb454bc3\" ><caption>Missing</caption> \n",
       "<thead>    <tr> \n",
       "        <th class=\"blank level0\" ></th> \n",
       "        <th class=\"col_heading level0 col0\" >Null</th> \n",
       "        <th class=\"col_heading level0 col1\" >NA_or_Missing</th> \n",
       "        <th class=\"col_heading level0 col2\" >Incomplete</th> \n",
       "    </tr></thead> \n",
       "<tbody>    <tr> \n",
       "        <th id=\"T_fd9e52c4_7eb2_11e7_bacc_3052cb454bc3\" class=\"row_heading level0 row0\" >all_util</th> \n",
       "        <td id=\"T_fd9e52c4_7eb2_11e7_bacc_3052cb454bc3row0_col0\" class=\"data row0 col0\" >172,745</td> \n",
       "        <td id=\"T_fd9e52c4_7eb2_11e7_bacc_3052cb454bc3row0_col1\" class=\"data row0 col1\" >0</td> \n",
       "        <td id=\"T_fd9e52c4_7eb2_11e7_bacc_3052cb454bc3row0_col2\" class=\"data row0 col2\" >100.0%</td> \n",
       "    </tr>    <tr> \n",
       "        <th id=\"T_fd9e52c4_7eb2_11e7_bacc_3052cb454bc3\" class=\"row_heading level0 row1\" >inq_last_12m</th> \n",
       "        <td id=\"T_fd9e52c4_7eb2_11e7_bacc_3052cb454bc3row1_col0\" class=\"data row1 col0\" >172,745</td> \n",
       "        <td id=\"T_fd9e52c4_7eb2_11e7_bacc_3052cb454bc3row1_col1\" class=\"data row1 col1\" >0</td> \n",
       "        <td id=\"T_fd9e52c4_7eb2_11e7_bacc_3052cb454bc3row1_col2\" class=\"data row1 col2\" >100.0%</td> \n",
       "    </tr>    <tr> \n",
       "        <th id=\"T_fd9e52c4_7eb2_11e7_bacc_3052cb454bc3\" class=\"row_heading level0 row2\" >avg_cur_bal</th> \n",
       "        <td id=\"T_fd9e52c4_7eb2_11e7_bacc_3052cb454bc3row2_col0\" class=\"data row2 col0\" >51,649</td> \n",
       "        <td id=\"T_fd9e52c4_7eb2_11e7_bacc_3052cb454bc3row2_col1\" class=\"data row2 col1\" >0</td> \n",
       "        <td id=\"T_fd9e52c4_7eb2_11e7_bacc_3052cb454bc3row2_col2\" class=\"data row2 col2\" >29.9%</td> \n",
       "    </tr>    <tr> \n",
       "        <th id=\"T_fd9e52c4_7eb2_11e7_bacc_3052cb454bc3\" class=\"row_heading level0 row3\" >bc_util</th> \n",
       "        <td id=\"T_fd9e52c4_7eb2_11e7_bacc_3052cb454bc3row3_col0\" class=\"data row3 col0\" >36,407</td> \n",
       "        <td id=\"T_fd9e52c4_7eb2_11e7_bacc_3052cb454bc3row3_col1\" class=\"data row3 col1\" >0</td> \n",
       "        <td id=\"T_fd9e52c4_7eb2_11e7_bacc_3052cb454bc3row3_col2\" class=\"data row3 col2\" >21.1%</td> \n",
       "    </tr>    <tr> \n",
       "        <th id=\"T_fd9e52c4_7eb2_11e7_bacc_3052cb454bc3\" class=\"row_heading level0 row4\" >percent_bc_gt_75</th> \n",
       "        <td id=\"T_fd9e52c4_7eb2_11e7_bacc_3052cb454bc3row4_col0\" class=\"data row4 col0\" >36,346</td> \n",
       "        <td id=\"T_fd9e52c4_7eb2_11e7_bacc_3052cb454bc3row4_col1\" class=\"data row4 col1\" >0</td> \n",
       "        <td id=\"T_fd9e52c4_7eb2_11e7_bacc_3052cb454bc3row4_col2\" class=\"data row4 col2\" >21.0%</td> \n",
       "    </tr>    <tr> \n",
       "        <th id=\"T_fd9e52c4_7eb2_11e7_bacc_3052cb454bc3\" class=\"row_heading level0 row5\" >acc_open_past_24mths</th> \n",
       "        <td id=\"T_fd9e52c4_7eb2_11e7_bacc_3052cb454bc3row5_col0\" class=\"data row5 col0\" >35,121</td> \n",
       "        <td id=\"T_fd9e52c4_7eb2_11e7_bacc_3052cb454bc3row5_col1\" class=\"data row5 col1\" >0</td> \n",
       "        <td id=\"T_fd9e52c4_7eb2_11e7_bacc_3052cb454bc3row5_col2\" class=\"data row5 col2\" >20.3%</td> \n",
       "    </tr>    <tr> \n",
       "        <th id=\"T_fd9e52c4_7eb2_11e7_bacc_3052cb454bc3\" class=\"row_heading level0 row6\" >emp_length</th> \n",
       "        <td id=\"T_fd9e52c4_7eb2_11e7_bacc_3052cb454bc3row6_col0\" class=\"data row6 col0\" >0</td> \n",
       "        <td id=\"T_fd9e52c4_7eb2_11e7_bacc_3052cb454bc3row6_col1\" class=\"data row6 col1\" >7,507</td> \n",
       "        <td id=\"T_fd9e52c4_7eb2_11e7_bacc_3052cb454bc3row6_col2\" class=\"data row6 col2\" >4.3%</td> \n",
       "    </tr>    <tr> \n",
       "        <th id=\"T_fd9e52c4_7eb2_11e7_bacc_3052cb454bc3\" class=\"row_heading level0 row7\" >revol_util</th> \n",
       "        <td id=\"T_fd9e52c4_7eb2_11e7_bacc_3052cb454bc3row7_col0\" class=\"data row7 col0\" >144</td> \n",
       "        <td id=\"T_fd9e52c4_7eb2_11e7_bacc_3052cb454bc3row7_col1\" class=\"data row7 col1\" >0</td> \n",
       "        <td id=\"T_fd9e52c4_7eb2_11e7_bacc_3052cb454bc3row7_col2\" class=\"data row7 col2\" >0.1%</td> \n",
       "    </tr></tbody> \n",
       "</table> "
      ],
      "text/plain": [
       "<pandas.io.formats.style.Styler at 0x7f7462aeaf28>"
      ]
     },
     "metadata": {},
     "output_type": "display_data"
    }
   ],
   "source": [
    "incomplete_stats = load_dataset().pipe(calc_incomplete_stats)\n",
    "display_incomplete_stats(incomplete_stats)"
   ]
  },
  {
   "cell_type": "code",
   "execution_count": 21,
   "metadata": {},
   "outputs": [
    {
     "data": {
      "image/png": "[encoded data removed]",
      "text/plain": [
       "<matplotlib.figure.Figure at 0x7f7462af2eb8>"
      ]
     },
     "metadata": {},
     "output_type": "display_data"
    }
   ],
   "source": [
    "plot_incomplete_stats(incomplete_stats)"
   ]
  },
  {
   "cell_type": "markdown",
   "metadata": {
    "heading_collapsed": true,
    "hidden": true
   },
   "source": [
    "## Data Munging"
   ]
  },
  {
   "cell_type": "markdown",
   "metadata": {
    "hidden": true
   },
   "source": [
    "### Cleaning"
   ]
  },
  {
   "cell_type": "markdown",
   "metadata": {},
   "source": [
    "- all_util, inq_last_12m\n",
    "    + Drop features (all observations contain null/missing values)\n",
    "- revol_util\n",
    "    1. Remove the percent sign (%) from string\n",
    "    2. Convert to a float\n",
    "- earliest_cr_line, issue_d\n",
    "    + Convert to datetime data type.\n",
    "- emp_length\n",
    "    1. Strip leading and trailing whitespace\n",
    "    2. Replace '< 1' with '0.5'\n",
    "    3. Replace '10+' with '10.5'\n",
    "    4. Fill null values with '-1.5'\n",
    "    5. Convert to float"
   ]
  },
  {
   "cell_type": "code",
   "execution_count": 107,
   "metadata": {
    "collapsed": true
   },
   "outputs": [],
   "source": [
    "def clean_data(lc):\n",
    "    dt_features = ['earliest_cr_line', 'issue_d']\n",
    "    lc[dt_features] = lc[dt_features].apply(\n",
    "        lambda col: pd.to_datetime(col, format='%Y-%m-%d'), axis=0)\n",
    "    \n",
    "    cat_features =['purpose', 'home_ownership', 'addr_state']\n",
    "    lc[cat_features] = lc[cat_features].apply(pd.Categorical, axis=0)\n",
    "    \n",
    "    lc.revol_util = (lc.revol_util\n",
    "                     .str.extract('(\\d+\\.?\\d?)', expand=False)\n",
    "                     .astype('float'))\n",
    "    \n",
    "    lc.emp_length = (lc.emp_length\n",
    "                     .str.extract('(< 1|10\\+|\\d+)', expand=False)\n",
    "                     .replace('< 1', '0.5')\n",
    "                     .replace('10+', '10.5')\n",
    "                     .fillna('-1.5')\n",
    "                     .astype('float'))\n",
    "    return lc"
   ]
  },
  {
   "cell_type": "code",
   "execution_count": 108,
   "metadata": {},
   "outputs": [],
   "source": [
    "dataset = load_dataset().pipe(clean_data)"
   ]
  },
  {
   "cell_type": "markdown",
   "metadata": {
    "heading_collapsed": true,
    "hidden": true
   },
   "source": [
    "## Feature Engineering"
   ]
  },
  {
   "cell_type": "markdown",
   "metadata": {
    "heading_collapsed": true,
    "hidden": true
   },
   "source": [
    "### New Features"
   ]
  },
  {
   "cell_type": "markdown",
   "metadata": {},
   "source": [
    "- loan_amnt_to_inc\n",
    "    + the ratio of loan amount to annual income\n",
    "- earliest_cr_line_age\n",
    "    + age of first credit line from when the loan was issued\n",
    "- avg_cur_bal_to_inc\n",
    "    + the ratio of avg current balance to annual income\n",
    "- avg_cur_bal_to_loan_amnt\n",
    "    + the ratio of avg current balance to loan amount\n",
    "- acc_open_past_24mths_groups\n",
    "    + level of accounts opened in the last 2 yrs"
   ]
  },
  {
   "cell_type": "code",
   "execution_count": 120,
   "metadata": {
    "collapsed": true,
    "hidden": true
   },
   "outputs": [],
   "source": [
    "def add_features(lc):\n",
    "    # ratio of loan amount to annual income\n",
    "    group_labels = ['low', 'avg', 'high']\n",
    "    lc['loan_amnt_to_inc'] = (\n",
    "        pd.cut((lc.loan_amnt / lc.annual_inc), 3, labels=['low', 'avg', 'high'])\n",
    "        .cat.set_categories(['low', 'avg', 'high'], ordered=True))\n",
    "    \n",
    "    # age of first credit line from when the loan was issued\n",
    "    lc['earliest_cr_line_age'] = lc.issue_d - lc.earliest_cr_line\n",
    "    \n",
    "    # the ratio of avg current balance to annual income\n",
    "    lc['avg_cur_bal_to_inc'] = lc.avg_cur_bal / lc.annual_inc\n",
    "    \n",
    "    # the ratio of avg current balance to loan amount\n",
    "    lc['avg_cur_bal_to_loan_amnt'] = lc.avg_cur_bal / lc.loan_amnt\n",
    "    \n",
    "    # grouping level of accounts opened in the last 2 yrs\n",
    "    lc['acc_open_past_24mths_groups'] = (\n",
    "        pd.qcut(lc.acc_open_past_24mths, 3, labels=['low', 'avg', 'high'])\n",
    "        .cat.add_categories(['unknown']).fillna('unknown')\n",
    "        .cat.set_categories(['low', 'avg', 'high', 'unknown'], ordered=True))\n",
    "    \n",
    "    return lc"
   ]
  },
  {
   "cell_type": "code",
   "execution_count": 129,
   "metadata": {},
   "outputs": [],
   "source": [
    "dataset = load_dataset().pipe(clean_data).pipe(add_features)"
   ]
  },
  {
   "cell_type": "markdown",
   "metadata": {
    "heading_collapsed": true,
    "hidden": true
   },
   "source": [
    "### Drop Features"
   ]
  },
  {
   "cell_type": "code",
   "execution_count": 135,
   "metadata": {
    "collapsed": true,
    "hidden": true
   },
   "outputs": [],
   "source": [
    "def drop_features(lc):\n",
    "    target_leaks = ['recoveries', 'issue_d']\n",
    "    other_features = ['earliest_cr_line', 'acc_open_past_24mths', 'addr_state']\n",
    "    incomplete_features = list(lc.columns[lc.isnull().sum()/len(lc) == 1])\n",
    "    to_drop = target_leaks + other_features + incomplete_features\n",
    "    return lc.drop(to_drop, axis=1)"
   ]
  },
  {
   "cell_type": "code",
   "execution_count": 139,
   "metadata": {},
   "outputs": [],
   "source": [
    "dataset = load_dataset().pipe(clean_data).pipe(add_features).pipe(drop_features)"
   ]
  },
  {
   "cell_type": "markdown",
   "metadata": {
    "heading_collapsed": true
   },
   "source": [
    "# Exploratory Data Analysis (EDA)"
   ]
  },
  {
   "cell_type": "markdown",
   "metadata": {
    "heading_collapsed": true,
    "hidden": true
   },
   "source": [
    "## Summary Statistics"
   ]
  },
  {
   "cell_type": "markdown",
   "metadata": {
    "heading_collapsed": true
   },
   "source": [
    "# Predictive Modeling"
   ]
  },
  {
   "cell_type": "markdown",
   "metadata": {
    "heading_collapsed": true,
    "hidden": true
   },
   "source": [
    "## Initializing Train/Test Sets"
   ]
  },
  {
   "cell_type": "markdown",
   "metadata": {
    "hidden": true
   },
   "source": [
    "### Shuffle and Split Data"
   ]
  },
  {
   "cell_type": "markdown",
   "metadata": {
    "hidden": true
   },
   "source": [
    "Let's split the data (both features and their labels) into training and test sets. 80% of the data will be used for training and 20% for testing.\n",
    "\n",
    "Run the code cell below to perform this split."
   ]
  },
  {
   "cell_type": "code",
   "execution_count": null,
   "metadata": {
    "collapsed": true,
    "hidden": true
   },
   "outputs": [],
   "source": [
    "X, y = #ToDo\n",
    "X_train, X_test, y_train, y_test = train_test_split(\n",
    "    X, y, test_size=0.20, stratify=y, random_state=11)\n",
    "\n",
    "# Show the results of the split\n",
    "print(\"Training set has {} samples.\".format(X_train.shape[0]))\n",
    "print(\"Testing set has {} samples.\".format(X_test.shape[0]))"
   ]
  },
  {
   "cell_type": "markdown",
   "metadata": {
    "heading_collapsed": true,
    "hidden": true
   },
   "source": [
    "## Classification Models"
   ]
  },
  {
   "cell_type": "markdown",
   "metadata": {
    "heading_collapsed": true,
    "hidden": true
   },
   "source": [
    "### Naive Predictor (Baseline)"
   ]
  },
  {
   "cell_type": "code",
   "execution_count": null,
   "metadata": {
    "collapsed": true,
    "hidden": true
   },
   "outputs": [],
   "source": [
    "dummy_pipe = Pipeline([('imp', Imputer(strategy='median')), \n",
    "                       ('clf', DummyClassifier(strategy='constant', constant=0))])\n"
   ]
  },
  {
   "cell_type": "code",
   "execution_count": null,
   "metadata": {
    "collapsed": true,
    "hidden": true
   },
   "outputs": [],
   "source": [
    "dummy_pipe.fit(X_train, y_train)\n",
    "\n",
    "#\n",
    "naive_pred = dummy_pipe.predict(X_test)\n",
    "\n",
    "# Calculate accuracy\n",
    "accuracy = accuracy_score(naive_pred, y_test)\n",
    "\n",
    "# Calculate F-score using beta = 0.5\n",
    "fscore = fbeta_score(naive_pred, y_test, beta=0.5)\n",
    "\n",
    "# Print the results \n",
    "print(\"Naive Predictor: [Accuracy score: {:.4f}, F-score: {:.4f}]\".format(accuracy, fscore))"
   ]
  },
  {
   "cell_type": "markdown",
   "metadata": {
    "heading_collapsed": true,
    "hidden": true
   },
   "source": [
    "### Decision Tree Classifier"
   ]
  },
  {
   "cell_type": "code",
   "execution_count": null,
   "metadata": {
    "collapsed": true,
    "hidden": true
   },
   "outputs": [],
   "source": [
    "from sklearn.tree import DecisionTreeClassifier\n",
    "tree_clf_baseline = DecisionTreeClassifier(random_state=11)\n",
    "tree_pipe_baseline = Pipeline([('imp', Imputer(strategy='median')), ('clf', tree_clf_baseline)])\n",
    "\n",
    "model_tree_baseline = train_model('Decision Tree Classifier', tree_pipe_baseline, X_train, y_train, X_test, y_test,\n",
    "                               report=True, plot_roc=True, notes='Baseline Model')\n",
    "\n",
    "model_evals = eval_db(model_tree_baseline['evaluation'])"
   ]
  },
  {
   "cell_type": "markdown",
   "metadata": {
    "heading_collapsed": true,
    "hidden": true
   },
   "source": [
    "## Model Selection & Optimization"
   ]
  },
  {
   "cell_type": "markdown",
   "metadata": {
    "hidden": true
   },
   "source": [
    "### Comparative Analysis"
   ]
  },
  {
   "cell_type": "markdown",
   "metadata": {
    "hidden": true
   },
   "source": [
    "### Model Selection"
   ]
  },
  {
   "cell_type": "markdown",
   "metadata": {
    "hidden": true
   },
   "source": [
    "### Optimizing Hyperparameters"
   ]
  },
  {
   "cell_type": "code",
   "execution_count": null,
   "metadata": {
    "collapsed": true,
    "hidden": true
   },
   "outputs": [],
   "source": []
  },
  {
   "cell_type": "markdown",
   "metadata": {
    "hidden": true
   },
   "source": [
    "#### Results:\n",
    "\n",
    "|     Metric     | Benchmark Predictor | Unoptimized Model | Optimized Model |\n",
    "| :------------: | :-----------------: | :---------------: | :-------------: | \n",
    "| Accuracy Score |      0.2438         |     0.8630        |   0.8682        |\n",
    "| F-score        |      0.6171         |     0.7395        |   0.7462        |\n"
   ]
  },
  {
   "cell_type": "markdown",
   "metadata": {
    "heading_collapsed": true
   },
   "source": [
    "# Conclusion"
   ]
  },
  {
   "cell_type": "markdown",
   "metadata": {
    "heading_collapsed": true,
    "hidden": true
   },
   "source": [
    "## Feature Importance"
   ]
  },
  {
   "cell_type": "markdown",
   "metadata": {
    "hidden": true
   },
   "source": [
    "### Extracting Feature Importance"
   ]
  },
  {
   "cell_type": "markdown",
   "metadata": {
    "hidden": true
   },
   "source": [
    "### Effects of Feature Selection"
   ]
  },
  {
   "cell_type": "markdown",
   "metadata": {
    "heading_collapsed": true,
    "hidden": true
   },
   "source": [
    "## Final Model Evaluation"
   ]
  },
  {
   "cell_type": "code",
   "execution_count": null,
   "metadata": {
    "collapsed": true,
    "hidden": true
   },
   "outputs": [],
   "source": []
  }
 ],
 "metadata": {
  "kernelspec": {
   "display_name": "Python 3",
   "language": "python",
   "name": "python3"
  },
  "language_info": {
   "codemirror_mode": {
    "name": "ipython",
    "version": 3
   },
   "file_extension": ".py",
   "mimetype": "text/x-python",
   "name": "python",
   "nbconvert_exporter": "python",
   "pygments_lexer": "ipython3",
   "version": "3.6.1"
  },
  "toc": {
   "colors": {
    "hover_highlight": "#DAA520",
    "navigate_num": "#000000",
    "navigate_text": "#333333",
    "running_highlight": "#FF0000",
    "selected_highlight": "#FFD700",
    "sidebar_border": "#EEEEEE",
    "wrapper_background": "#FFFFFF"
   },
   "moveMenuLeft": true,
   "nav_menu": {
    "height": "318px",
    "width": "252px"
   },
   "navigate_menu": true,
   "number_sections": false,
   "sideBar": true,
   "threshold": "3",
   "toc_cell": true,
   "toc_section_display": "block",
   "toc_window_display": false,
   "widenNotebook": false
  }
 },
 "nbformat": 4,
 "nbformat_minor": 1
}
